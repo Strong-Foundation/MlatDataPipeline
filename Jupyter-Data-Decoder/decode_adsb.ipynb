{
 "cells": [
  {
   "cell_type": "markdown",
   "id": "56c0fd0d-acc3-4e4d-bb3e-bb30f13b4da7",
   "metadata": {},
   "source": [
    "### Install the required tools."
   ]
  },
  {
   "cell_type": "code",
   "execution_count": 1,
   "id": "ed1fce59-8749-46ad-9366-3acba1d3915c",
   "metadata": {},
   "outputs": [
    {
     "name": "stdout",
     "output_type": "stream",
     "text": [
      "Collecting pyModeS\n",
      "  Downloading pymodes-2.19-py3-none-any.whl.metadata (11 kB)\n",
      "Collecting numpy>=1.26 (from pyModeS)\n",
      "  Downloading numpy-2.2.1-cp311-cp311-manylinux_2_17_aarch64.manylinux2014_aarch64.whl.metadata (63 kB)\n",
      "Requirement already satisfied: pyzmq>=24.0 in /venv/lib/python3.11/site-packages (from pyModeS) (26.2.0)\n",
      "Downloading pymodes-2.19-py3-none-any.whl (79 kB)\n",
      "Downloading numpy-2.2.1-cp311-cp311-manylinux_2_17_aarch64.manylinux2014_aarch64.whl (14.3 MB)\n",
      "\u001b[2K   \u001b[90m━━━━━━━━━━━━━━━━━━━━━━━━━━━━━━━━━━━━━━━━\u001b[0m \u001b[32m14.3/14.3 MB\u001b[0m \u001b[31m11.4 MB/s\u001b[0m eta \u001b[36m0:00:00\u001b[0m00:01\u001b[0m00:01\u001b[0m\n",
      "Installing collected packages: numpy, pyModeS\n",
      "Successfully installed numpy-2.2.1 pyModeS-2.19\n",
      "Note: you may need to restart the kernel to use updated packages.\n"
     ]
    }
   ],
   "source": [
    "pip install pyModeS"
   ]
  },
  {
   "cell_type": "markdown",
   "id": "a59a4ceb",
   "metadata": {},
   "source": [
    "### Decode the given files."
   ]
  },
  {
   "cell_type": "code",
   "execution_count": 6,
   "id": "af07a76f-0c18-41f2-87c1-9af9e9dfe8c0",
   "metadata": {},
   "outputs": [
    {
     "name": "stdout",
     "output_type": "stream",
     "text": [
      "Decoded messages saved to decoded_messages.txt\n",
      "Invalid messages saved to invalid_messages.txt\n"
     ]
    }
   ],
   "source": [
    "import pyModeS as pms\n",
    "\n",
    "# Input file path\n",
    "log_file_path = \"adsb_raw_data.txt\"\n",
    "\n",
    "# Output file paths\n",
    "decoded_output_file = \"decoded_messages.txt\"\n",
    "invalid_output_file = \"invalid_messages.txt\"\n",
    "\n",
    "# Function to decode a single ADS-B message\n",
    "def decode_adsb_message(message):\n",
    "    try:\n",
    "        if len(message) != 28:\n",
    "            return {\"Message\": message, \"Error\": \"Invalid length\"}\n",
    "        \n",
    "        # Check CRC validity\n",
    "        crc_check = pms.crc(message)\n",
    "        if crc_check != 0:\n",
    "            return {\"Message\": message, \"Error\": \"CRC check failed\"}\n",
    "\n",
    "        icao = pms.icao(message)\n",
    "        df = pms.df(message)\n",
    "        msg_type = pms.typecode(message)\n",
    "\n",
    "        decoded_info = {\n",
    "            \"Message\": message,\n",
    "            \"ICAO Address\": icao,\n",
    "            \"Downlink Format\": df,\n",
    "            \"Type Code\": msg_type,\n",
    "        }\n",
    "\n",
    "        # Decode additional information based on Type Code\n",
    "        if msg_type in range(1, 5):  # Aircraft identification and category\n",
    "            decoded_info[\"Callsign\"] = pms.adsb.callsign(message)\n",
    "        elif msg_type in range(9, 19):  # Airborne position\n",
    "            decoded_info[\"Altitude\"] = pms.adsb.altitude(message)\n",
    "        elif msg_type == 19:  # Airborne velocity\n",
    "            decoded_info[\"Velocity\"] = pms.adsb.velocity(message)\n",
    "        else:\n",
    "            # Handle other message types with descriptions or context\n",
    "            if msg_type in range(5, 9):  # Messages related to aircraft status, intent, etc.\n",
    "                decoded_info[\"Details\"] = f\"Aircraft status, intent, or other non-position messages (Type {msg_type})\"\n",
    "            elif msg_type == 20:  # For example, surveillance information\n",
    "                decoded_info[\"Details\"] = \"Surveillance information message\"\n",
    "            else:\n",
    "                decoded_info[\"Details\"] = f\"Unrecognized message type (Type {msg_type})\"\n",
    "\n",
    "        return decoded_info\n",
    "    except Exception as e:\n",
    "        return {\"Message\": message, \"Error\": str(e)}\n",
    "\n",
    "# Process the log file\n",
    "decoded_messages = []\n",
    "invalid_messages = []\n",
    "\n",
    "try:\n",
    "    with open(log_file_path, \"r\") as file:\n",
    "        for line in file:\n",
    "            raw_message = line.strip()  # Original line\n",
    "            cleaned_message = raw_message.strip('*').strip(';')  # Cleaned message\n",
    "\n",
    "            if len(cleaned_message) == 28:  # Validate message length\n",
    "                result = decode_adsb_message(cleaned_message)\n",
    "                if \"Error\" in result:\n",
    "                    invalid_messages.append(result)\n",
    "                else:\n",
    "                    decoded_messages.append(result)\n",
    "            else:\n",
    "                invalid_messages.append({\"Message\": raw_message, \"Error\": \"Invalid length\"})\n",
    "except FileNotFoundError:\n",
    "    print(f\"File not found: {log_file_path}\")\n",
    "    exit()\n",
    "\n",
    "# Save decoded messages\n",
    "with open(decoded_output_file, \"w\") as decoded_file:\n",
    "    for msg in decoded_messages:\n",
    "        decoded_file.write(str(msg) + \"\\n\")\n",
    "\n",
    "# Save invalid messages\n",
    "with open(invalid_output_file, \"w\") as invalid_file:\n",
    "    for msg in invalid_messages:\n",
    "        invalid_file.write(str(msg) + \"\\n\")\n",
    "\n",
    "# Print summary\n",
    "print(f\"Decoded messages saved to {decoded_output_file}\")\n",
    "print(f\"Invalid messages saved to {invalid_output_file}\")"
   ]
  },
  {
   "cell_type": "code",
   "execution_count": null,
   "id": "cd6c9821-c69f-407c-9449-fa3ea3efe15b",
   "metadata": {},
   "outputs": [],
   "source": []
  }
 ],
 "metadata": {
  "kernelspec": {
   "display_name": "Python 3 (ipykernel)",
   "language": "python",
   "name": "python3"
  },
  "language_info": {
   "codemirror_mode": {
    "name": "ipython",
    "version": 3
   },
   "file_extension": ".py",
   "mimetype": "text/x-python",
   "name": "python",
   "nbconvert_exporter": "python",
   "pygments_lexer": "ipython3",
   "version": "3.11.2"
  }
 },
 "nbformat": 4,
 "nbformat_minor": 5
}
