{
 "cells": [
  {
   "cell_type": "markdown",
   "id": "56c0fd0d-acc3-4e4d-bb3e-bb30f13b4da7",
   "metadata": {},
   "source": [
    "Install the required tools."
   ]
  },
  {
   "cell_type": "code",
   "execution_count": 2,
   "id": "ed1fce59-8749-46ad-9366-3acba1d3915c",
   "metadata": {},
   "outputs": [
    {
     "name": "stdout",
     "output_type": "stream",
     "text": [
      "Requirement already satisfied: pyModeS in /venv/lib/python3.11/site-packages (2.19)\n",
      "Requirement already satisfied: numpy>=1.26 in /venv/lib/python3.11/site-packages (from pyModeS) (2.2.1)\n",
      "Requirement already satisfied: pyzmq>=24.0 in /venv/lib/python3.11/site-packages (from pyModeS) (26.2.0)\n",
      "Note: you may need to restart the kernel to use updated packages.\n"
     ]
    }
   ],
   "source": [
    "pip install pyModeS"
   ]
  },
  {
   "cell_type": "code",
   "execution_count": null,
   "id": "af07a76f-0c18-41f2-87c1-9af9e9dfe8c0",
   "metadata": {},
   "outputs": [],
   "source": []
  }
 ],
 "metadata": {
  "kernelspec": {
   "display_name": "Python 3 (ipykernel)",
   "language": "python",
   "name": "python3"
  },
  "language_info": {
   "codemirror_mode": {
    "name": "ipython",
    "version": 3
   },
   "file_extension": ".py",
   "mimetype": "text/x-python",
   "name": "python",
   "nbconvert_exporter": "python",
   "pygments_lexer": "ipython3",
   "version": "3.11.2"
  }
 },
 "nbformat": 4,
 "nbformat_minor": 5
}
